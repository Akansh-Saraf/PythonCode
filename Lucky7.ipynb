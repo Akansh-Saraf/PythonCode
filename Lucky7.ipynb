{
 "cells": [
  {
   "cell_type": "markdown",
   "id": "cfcdf1d4",
   "metadata": {},
   "source": [
    "<Poker Simulation in Python>"
   ]
  },
  {
   "cell_type": "code",
   "execution_count": 109,
   "id": "5650675e",
   "metadata": {},
   "outputs": [],
   "source": [
    "import numpy as np\n",
    "import numpy.random as rd"
   ]
  },
  {
   "cell_type": "code",
   "execution_count": 114,
   "id": "b4a38e19",
   "metadata": {},
   "outputs": [],
   "source": [
    "def die():\n",
    "    a=int((rd.rand()*6+1)//1)\n",
    "    b=int((rd.rand()*6+1)//1)\n",
    "    print(\"You rolled: \",a+b)\n",
    "    if(a+b==7):\n",
    "        return 7\n",
    "    return(a+b)/7+1"
   ]
  },
  {
   "cell_type": "code",
   "execution_count": null,
   "id": "c56dab99",
   "metadata": {},
   "outputs": [
    {
     "name": "stdout",
     "output_type": "stream",
     "text": [
      "Enter your bet. Enter 0 to exit100\n",
      "Enter 1 for below 7. Enter 7 for 7. Enter 2 for above 77\n",
      "You rolled:  4\n",
      "Profit =  -100\n",
      "Net Profit=  -100 \n",
      "\n",
      "Enter your bet. Enter 0 to exit200\n",
      "Enter 1 for below 7. Enter 7 for 7. Enter 2 for above 71\n",
      "You rolled:  5\n",
      "Profit =  200\n",
      "Net Profit=  100 \n",
      "\n"
     ]
    }
   ],
   "source": [
    "def die():\n",
    "    a=int((rd.rand()*6+1)//1)\n",
    "    b=int((rd.rand()*6+1)//1)\n",
    "    print(\"You rolled: \",a+b)\n",
    "    if(a+b==7):\n",
    "        return 7\n",
    "    return int((a+b)/7+1)\n",
    "net_profit=0\n",
    "guess=1;\n",
    "while(1):\n",
    "    bet=int(input(\"Enter your bet. Enter 0 to exit\"))\n",
    "    if(bet==0):\n",
    "        break\n",
    "    guess=int(input(\"Enter 1 for below 7. Enter 7 for 7. Enter 2 for above 7\"))\n",
    "    dice=die()\n",
    "    if(dice==guess):\n",
    "        if(dice==7):\n",
    "            profit=bet*2\n",
    "        else:\n",
    "            profit=bet\n",
    "    else:\n",
    "        profit=-1*bet\n",
    "    net_profit=net_profit+profit\n",
    "    print(\"Profit = \",profit)\n",
    "    print(\"Net Profit= \",net_profit,\"\\n\")\n",
    "    "
   ]
  },
  {
   "cell_type": "code",
   "execution_count": null,
   "id": "f701a937",
   "metadata": {},
   "outputs": [],
   "source": []
  }
 ],
 "metadata": {
  "kernelspec": {
   "display_name": "Python 3 (ipykernel)",
   "language": "python",
   "name": "python3"
  },
  "language_info": {
   "codemirror_mode": {
    "name": "ipython",
    "version": 3
   },
   "file_extension": ".py",
   "mimetype": "text/x-python",
   "name": "python",
   "nbconvert_exporter": "python",
   "pygments_lexer": "ipython3",
   "version": "3.9.13"
  }
 },
 "nbformat": 4,
 "nbformat_minor": 5
}

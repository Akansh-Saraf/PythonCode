{
 "cells": [
  {
   "cell_type": "code",
   "execution_count": 1,
   "id": "30a7dbbe",
   "metadata": {},
   "outputs": [],
   "source": [
    "import numpy as np\n",
    "import matplotlib.pyplot as plt\n",
    "from random import random"
   ]
  },
  {
   "cell_type": "code",
   "execution_count": 2,
   "id": "0d50afad",
   "metadata": {},
   "outputs": [
    {
     "name": "stdout",
     "output_type": "stream",
     "text": [
      "Enter rock,paper, or scissors. Enter 0 to exit\n",
      "bock\n",
      "Enter correct term. Retry\n",
      "\n",
      "Enter rock,paper, or scissors. Enter 0 to exit\n",
      "baper\n",
      "Enter correct term. Retry\n",
      "\n",
      "Enter rock,paper, or scissors. Enter 0 to exit\n",
      "bissors\n",
      "Enter correct term. Retry\n",
      "\n",
      "Enter rock,paper, or scissors. Enter 0 to exit\n",
      "rock\n",
      "\n",
      "Computer chose scissors\n",
      "You won\n",
      "Enter rock,paper, or scissors. Enter 0 to exit\n",
      "rock\n",
      "\n",
      "Computer chose rock\n",
      "Tied.\n",
      "Enter rock,paper, or scissors. Enter 0 to exit\n",
      "rock\n",
      "\n",
      "Computer chose rock\n",
      "Tied.\n",
      "Enter rock,paper, or scissors. Enter 0 to exit\n",
      "rock\n",
      "\n",
      "Computer chose paper\n",
      "You lost \n",
      "\n",
      "Enter rock,paper, or scissors. Enter 0 to exit\n",
      "rock\n",
      "\n",
      "Computer chose paper\n",
      "You lost \n",
      "\n",
      "Enter rock,paper, or scissors. Enter 0 to exit\n",
      "rock\n",
      "\n",
      "Computer chose scissors\n",
      "You won\n",
      "Enter rock,paper, or scissors. Enter 0 to exit\n",
      "0\n",
      "---------------\n",
      "Game Over\n",
      "Score\n",
      "Computer: 2\tYou: 2\n"
     ]
    }
   ],
   "source": [
    "t=['rock','paper','scissors']\n",
    "sumc=0\n",
    "sumu=0\n",
    "while(True):\n",
    "    rps=input(\"Enter rock,paper, or scissors. Enter 0 to exit\\n\")\n",
    "    if(rps=='0'):\n",
    "        print(\"---------------\\nGame Over\")\n",
    "        break\n",
    "    try:\n",
    "        user=t.index(rps)\n",
    "    except ValueError:\n",
    "        print(\"Enter correct term. Retry\\n\")\n",
    "        continue\n",
    "    computer=(random()*3)//1\n",
    "    print(\"\\nComputer chose\", t[int(computer)])\n",
    "    if(user==(computer+1)%3):\n",
    "        print(\"You won\")\n",
    "        sumu+=1\n",
    "    elif(user==computer):\n",
    "        print(\"Tied.\")\n",
    "    else:\n",
    "        print(\"You lost \\n\")\n",
    "        sumc+=1\n",
    "print(\"Score\\nComputer: %d\\tYou: %d\" %(sumc,sumu))"
   ]
  },
  {
   "cell_type": "code",
   "execution_count": null,
   "id": "deab0bb7",
   "metadata": {},
   "outputs": [],
   "source": []
  }
 ],
 "metadata": {
  "kernelspec": {
   "display_name": "Python 3 (ipykernel)",
   "language": "python",
   "name": "python3"
  },
  "language_info": {
   "codemirror_mode": {
    "name": "ipython",
    "version": 3
   },
   "file_extension": ".py",
   "mimetype": "text/x-python",
   "name": "python",
   "nbconvert_exporter": "python",
   "pygments_lexer": "ipython3",
   "version": "3.9.13"
  }
 },
 "nbformat": 4,
 "nbformat_minor": 5
}
